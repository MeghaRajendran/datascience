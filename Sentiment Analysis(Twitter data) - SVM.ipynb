{
 "cells": [
  {
   "cell_type": "code",
   "execution_count": 1,
   "id": "b8d0e7f8",
   "metadata": {},
   "outputs": [],
   "source": [
    "import pandas as pd\n",
    "import numpy as np"
   ]
  },
  {
   "cell_type": "code",
   "execution_count": 2,
   "id": "084861fb",
   "metadata": {},
   "outputs": [],
   "source": [
    "tweets = pd.read_csv(r\"C:\\Users\\megha\\OneDrive\\Desktop\\datasets\\COVIDSenti-A.csv\")"
   ]
  },
  {
   "cell_type": "code",
   "execution_count": 3,
   "id": "89d278f4",
   "metadata": {
    "scrolled": true
   },
   "outputs": [
    {
     "data": {
      "text/html": [
       "<div>\n",
       "<style scoped>\n",
       "    .dataframe tbody tr th:only-of-type {\n",
       "        vertical-align: middle;\n",
       "    }\n",
       "\n",
       "    .dataframe tbody tr th {\n",
       "        vertical-align: top;\n",
       "    }\n",
       "\n",
       "    .dataframe thead th {\n",
       "        text-align: right;\n",
       "    }\n",
       "</style>\n",
       "<table border=\"1\" class=\"dataframe\">\n",
       "  <thead>\n",
       "    <tr style=\"text-align: right;\">\n",
       "      <th></th>\n",
       "      <th>tweet</th>\n",
       "      <th>label</th>\n",
       "    </tr>\n",
       "  </thead>\n",
       "  <tbody>\n",
       "    <tr>\n",
       "      <th>0</th>\n",
       "      <td>Coronavirus | Human Coronavirus Types | CDC ht...</td>\n",
       "      <td>neu</td>\n",
       "    </tr>\n",
       "    <tr>\n",
       "      <th>1</th>\n",
       "      <td>@shehryar_taseer That‚Äôs üíØ true , \\nCorona...</td>\n",
       "      <td>neu</td>\n",
       "    </tr>\n",
       "    <tr>\n",
       "      <th>2</th>\n",
       "      <td>TLDR: Not SARS, possibly new coronavirus. Diff...</td>\n",
       "      <td>neg</td>\n",
       "    </tr>\n",
       "    <tr>\n",
       "      <th>3</th>\n",
       "      <td>Disease outbreak news from the WHO: Middle Eas...</td>\n",
       "      <td>neu</td>\n",
       "    </tr>\n",
       "    <tr>\n",
       "      <th>4</th>\n",
       "      <td>China - Media: WSJ says sources tell them myst...</td>\n",
       "      <td>neu</td>\n",
       "    </tr>\n",
       "  </tbody>\n",
       "</table>\n",
       "</div>"
      ],
      "text/plain": [
       "                                               tweet label\n",
       "0  Coronavirus | Human Coronavirus Types | CDC ht...   neu\n",
       "1  @shehryar_taseer That‚Äôs üíØ true , \\nCorona...   neu\n",
       "2  TLDR: Not SARS, possibly new coronavirus. Diff...   neg\n",
       "3  Disease outbreak news from the WHO: Middle Eas...   neu\n",
       "4  China - Media: WSJ says sources tell them myst...   neu"
      ]
     },
     "execution_count": 3,
     "metadata": {},
     "output_type": "execute_result"
    }
   ],
   "source": [
    "tweets.head()"
   ]
  },
  {
   "cell_type": "code",
   "execution_count": 5,
   "id": "18880f7c",
   "metadata": {},
   "outputs": [
    {
     "name": "stdout",
     "output_type": "stream",
     "text": [
      "neu    22949\n",
      "neg     5083\n",
      "pos     1968\n",
      "Name: label, dtype: int64\n"
     ]
    }
   ],
   "source": [
    "sentiment_counts = tweets.label.value_counts()\n",
    "\n",
    "print(sentiment_counts)\n"
   ]
  },
  {
   "cell_type": "code",
   "execution_count": 6,
   "id": "d74df4e7",
   "metadata": {},
   "outputs": [
    {
     "data": {
      "text/plain": [
       "tweet    0\n",
       "label    0\n",
       "dtype: int64"
      ]
     },
     "execution_count": 6,
     "metadata": {},
     "output_type": "execute_result"
    }
   ],
   "source": [
    "tweets.isnull().sum()"
   ]
  },
  {
   "cell_type": "code",
   "execution_count": 7,
   "id": "938a07b2",
   "metadata": {},
   "outputs": [],
   "source": [
    "import re, nltk\n",
    "from nltk.stem import WordNetLemmatizer\n",
    "from nltk.corpus import stopwords\n",
    "stop_words = set(stopwords.words('english'))\n",
    "wordnet_lemmatizer = WordNetLemmatizer()\n",
    "\n",
    "def normalizer(tweet):\n",
    "    only_letters = re.sub(\"[^a-zA-Z]\", \" \",tweet) \n",
    "    tokens = nltk.word_tokenize(only_letters)[2:]\n",
    "    lower_case = [l.lower() for l in tokens]\n",
    "    filtered_result = list(filter(lambda l: l not in stop_words, lower_case))\n",
    "    lemmas = [wordnet_lemmatizer.lemmatize(t) for t in filtered_result]\n",
    "    return lemmas"
   ]
  },
  {
   "cell_type": "code",
   "execution_count": 8,
   "id": "a91aec3b",
   "metadata": {},
   "outputs": [
    {
     "name": "stderr",
     "output_type": "stream",
     "text": [
      "[nltk_data] Downloading package omw-1.4 to\n",
      "[nltk_data]     C:\\Users\\megha\\AppData\\Roaming\\nltk_data...\n",
      "[nltk_data]   Package omw-1.4 is already up-to-date!\n"
     ]
    },
    {
     "data": {
      "text/plain": [
       "True"
      ]
     },
     "execution_count": 8,
     "metadata": {},
     "output_type": "execute_result"
    }
   ],
   "source": [
    ">>> import nltk\n",
    ">>> nltk.download('omw-1.4')"
   ]
  },
  {
   "cell_type": "code",
   "execution_count": 9,
   "id": "a510c92d",
   "metadata": {},
   "outputs": [
    {
     "name": "stderr",
     "output_type": "stream",
     "text": [
      "<ipython-input-9-04a010b8d906>:1: FutureWarning: Passing a negative integer is deprecated in version 1.0 and will not be supported in future version. Instead, use None to not limit the column width.\n",
      "  pd.set_option('display.max_colwidth', -1) # Setting this so we can see the full content of cells\n"
     ]
    },
    {
     "data": {
      "text/plain": [
       "0        [coronavirus, type, cdc, http, co, ixoxvrarib]                                                                                   \n",
       "1        [true, corona, virus, swine, flue, bird, flu, december, whole, pk, busy, marriage, http, co, jwbiymnyo]                          \n",
       "2        [sars, possibly, new, coronavirus, difficult, confirm, patient, identified, later, infection, http, co, utko, fxdgx]             \n",
       "3        [news, middle, east, respiratory, syndrome, coronavirus, mers, cov, united, arab, emira, http, co, n, e, zilj]                   \n",
       "4        [wsj, say, source, tell, mystery, pneumonia, new, coronavirus, something, speculat, http, co, pjmduiazw]                         \n",
       "                                                           ...                                                                            \n",
       "29995    [test, confirms, westerdam, cruise, ship, passenger, never, coronavirus, http, co, pd, kudaprp, via, usatoday, http, co, zoyfypf]\n",
       "29996    [die, coronavirus, within, hour, china, hubei, province, year, old, man, worked, hospital, http, co, zzpoyailgd]                 \n",
       "29997    [lockdown, guo, jing, neighbourhood, wuhan, city, heart, china, new, coronavirus, epi, http, co, nfkj, jjy]                      \n",
       "29998    [balochistan, cpec, route, spread, coronavirus, china, pakistan, health, http, co, b, xc, hwjol]                                 \n",
       "29999    [dollar, hit, fresh, decade, low, investor, spooked, fear, spreading, coronavirus, ou, http, co, aza, bu, nk]                    \n",
       "Name: tweet, Length: 30000, dtype: object"
      ]
     },
     "execution_count": 9,
     "metadata": {},
     "output_type": "execute_result"
    }
   ],
   "source": [
    "pd.set_option('display.max_colwidth', -1) # Setting this so we can see the full content of cells\n",
    "tweets.tweet.apply(normalizer)\n"
   ]
  },
  {
   "cell_type": "code",
   "execution_count": 10,
   "id": "4c6eab1b",
   "metadata": {},
   "outputs": [
    {
     "data": {
      "text/html": [
       "<div>\n",
       "<style scoped>\n",
       "    .dataframe tbody tr th:only-of-type {\n",
       "        vertical-align: middle;\n",
       "    }\n",
       "\n",
       "    .dataframe tbody tr th {\n",
       "        vertical-align: top;\n",
       "    }\n",
       "\n",
       "    .dataframe thead th {\n",
       "        text-align: right;\n",
       "    }\n",
       "</style>\n",
       "<table border=\"1\" class=\"dataframe\">\n",
       "  <thead>\n",
       "    <tr style=\"text-align: right;\">\n",
       "      <th></th>\n",
       "      <th>tweet</th>\n",
       "      <th>label</th>\n",
       "    </tr>\n",
       "  </thead>\n",
       "  <tbody>\n",
       "    <tr>\n",
       "      <th>0</th>\n",
       "      <td>Coronavirus | Human Coronavirus Types | CDC https://t.co/IxoxVRarIb</td>\n",
       "      <td>neu</td>\n",
       "    </tr>\n",
       "    <tr>\n",
       "      <th>1</th>\n",
       "      <td>@shehryar_taseer That‚Äôs üíØ true , \\nCorona virus \\nswine flue \\nBird flu in December when whole Pk is busy in Marriage‚Ä¶ https://t.co/6JWBIymnyo</td>\n",
       "      <td>neu</td>\n",
       "    </tr>\n",
       "    <tr>\n",
       "      <th>2</th>\n",
       "      <td>TLDR: Not SARS, possibly new coronavirus. Difficult to confirm because patients identified later in infection when‚Ä¶ https://t.co/utKo0fxdgX</td>\n",
       "      <td>neg</td>\n",
       "    </tr>\n",
       "    <tr>\n",
       "      <th>3</th>\n",
       "      <td>Disease outbreak news from the WHO: Middle East respiratory syndrome coronavirus (MERS-CoV) ‚Äì The United Arab Emira‚Ä¶ https://t.co/n89E94ZILj</td>\n",
       "      <td>neu</td>\n",
       "    </tr>\n",
       "    <tr>\n",
       "      <th>4</th>\n",
       "      <td>China - Media: WSJ says sources tell them mystery pneumonia is a new coronavirus - something that has been speculat‚Ä¶ https://t.co/3pJMDuiazw</td>\n",
       "      <td>neu</td>\n",
       "    </tr>\n",
       "  </tbody>\n",
       "</table>\n",
       "</div>"
      ],
      "text/plain": [
       "                                                                                                                                                   tweet  \\\n",
       "0  Coronavirus | Human Coronavirus Types | CDC https://t.co/IxoxVRarIb                                                                                     \n",
       "1  @shehryar_taseer That‚Äôs üíØ true , \\nCorona virus \\nswine flue \\nBird flu in December when whole Pk is busy in Marriage‚Ä¶ https://t.co/6JWBIymnyo   \n",
       "2  TLDR: Not SARS, possibly new coronavirus. Difficult to confirm because patients identified later in infection when‚Ä¶ https://t.co/utKo0fxdgX           \n",
       "3  Disease outbreak news from the WHO: Middle East respiratory syndrome coronavirus (MERS-CoV) ‚Äì The United Arab Emira‚Ä¶ https://t.co/n89E94ZILj        \n",
       "4  China - Media: WSJ says sources tell them mystery pneumonia is a new coronavirus - something that has been speculat‚Ä¶ https://t.co/3pJMDuiazw          \n",
       "\n",
       "  label  \n",
       "0  neu   \n",
       "1  neu   \n",
       "2  neg   \n",
       "3  neu   \n",
       "4  neu   "
      ]
     },
     "execution_count": 10,
     "metadata": {},
     "output_type": "execute_result"
    }
   ],
   "source": [
    "tweets.head()"
   ]
  },
  {
   "cell_type": "code",
   "execution_count": 11,
   "id": "a5eb02a1",
   "metadata": {},
   "outputs": [
    {
     "data": {
      "text/plain": [
       "0        1\n",
       "1        1\n",
       "2        0\n",
       "3        1\n",
       "4        1\n",
       "        ..\n",
       "29995    1\n",
       "29996    1\n",
       "29997    1\n",
       "29998    1\n",
       "29999    1\n",
       "Name: label, Length: 30000, dtype: int64"
      ]
     },
     "execution_count": 11,
     "metadata": {},
     "output_type": "execute_result"
    }
   ],
   "source": [
    "def sentiment2target(sentiment):\n",
    "    return {\n",
    "        'neg': 0,\n",
    "        'neu': 1,\n",
    "        'pos' : 2\n",
    "    }[sentiment]\n",
    "tweets.label.apply(sentiment2target)"
   ]
  },
  {
   "cell_type": "code",
   "execution_count": 12,
   "id": "c0c35996",
   "metadata": {},
   "outputs": [
    {
     "data": {
      "text/html": [
       "<div>\n",
       "<style scoped>\n",
       "    .dataframe tbody tr th:only-of-type {\n",
       "        vertical-align: middle;\n",
       "    }\n",
       "\n",
       "    .dataframe tbody tr th {\n",
       "        vertical-align: top;\n",
       "    }\n",
       "\n",
       "    .dataframe thead th {\n",
       "        text-align: right;\n",
       "    }\n",
       "</style>\n",
       "<table border=\"1\" class=\"dataframe\">\n",
       "  <thead>\n",
       "    <tr style=\"text-align: right;\">\n",
       "      <th></th>\n",
       "      <th>tweet</th>\n",
       "      <th>label</th>\n",
       "    </tr>\n",
       "  </thead>\n",
       "  <tbody>\n",
       "    <tr>\n",
       "      <th>0</th>\n",
       "      <td>Coronavirus | Human Coronavirus Types | CDC https://t.co/IxoxVRarIb</td>\n",
       "      <td>neu</td>\n",
       "    </tr>\n",
       "    <tr>\n",
       "      <th>1</th>\n",
       "      <td>@shehryar_taseer That‚Äôs üíØ true , \\nCorona virus \\nswine flue \\nBird flu in December when whole Pk is busy in Marriage‚Ä¶ https://t.co/6JWBIymnyo</td>\n",
       "      <td>neu</td>\n",
       "    </tr>\n",
       "    <tr>\n",
       "      <th>2</th>\n",
       "      <td>TLDR: Not SARS, possibly new coronavirus. Difficult to confirm because patients identified later in infection when‚Ä¶ https://t.co/utKo0fxdgX</td>\n",
       "      <td>neg</td>\n",
       "    </tr>\n",
       "    <tr>\n",
       "      <th>3</th>\n",
       "      <td>Disease outbreak news from the WHO: Middle East respiratory syndrome coronavirus (MERS-CoV) ‚Äì The United Arab Emira‚Ä¶ https://t.co/n89E94ZILj</td>\n",
       "      <td>neu</td>\n",
       "    </tr>\n",
       "    <tr>\n",
       "      <th>4</th>\n",
       "      <td>China - Media: WSJ says sources tell them mystery pneumonia is a new coronavirus - something that has been speculat‚Ä¶ https://t.co/3pJMDuiazw</td>\n",
       "      <td>neu</td>\n",
       "    </tr>\n",
       "  </tbody>\n",
       "</table>\n",
       "</div>"
      ],
      "text/plain": [
       "                                                                                                                                                   tweet  \\\n",
       "0  Coronavirus | Human Coronavirus Types | CDC https://t.co/IxoxVRarIb                                                                                     \n",
       "1  @shehryar_taseer That‚Äôs üíØ true , \\nCorona virus \\nswine flue \\nBird flu in December when whole Pk is busy in Marriage‚Ä¶ https://t.co/6JWBIymnyo   \n",
       "2  TLDR: Not SARS, possibly new coronavirus. Difficult to confirm because patients identified later in infection when‚Ä¶ https://t.co/utKo0fxdgX           \n",
       "3  Disease outbreak news from the WHO: Middle East respiratory syndrome coronavirus (MERS-CoV) ‚Äì The United Arab Emira‚Ä¶ https://t.co/n89E94ZILj        \n",
       "4  China - Media: WSJ says sources tell them mystery pneumonia is a new coronavirus - something that has been speculat‚Ä¶ https://t.co/3pJMDuiazw          \n",
       "\n",
       "  label  \n",
       "0  neu   \n",
       "1  neu   \n",
       "2  neg   \n",
       "3  neu   \n",
       "4  neu   "
      ]
     },
     "execution_count": 12,
     "metadata": {},
     "output_type": "execute_result"
    }
   ],
   "source": [
    "tweets.head()"
   ]
  },
  {
   "cell_type": "code",
   "execution_count": 13,
   "id": "4baf693f",
   "metadata": {},
   "outputs": [],
   "source": [
    "x=tweets[\"tweet\"]\n",
    "y=tweets[\"label\"]"
   ]
  },
  {
   "cell_type": "code",
   "execution_count": 14,
   "id": "fbfb3954",
   "metadata": {},
   "outputs": [],
   "source": [
    "from sklearn.model_selection import train_test_split"
   ]
  },
  {
   "cell_type": "code",
   "execution_count": 15,
   "id": "9abdc6ff",
   "metadata": {},
   "outputs": [],
   "source": [
    "from  sklearn.model_selection import train_test_split\n",
    "x_train, x_test, y_train, y_test= train_test_split(x,y,test_size=0.3, random_state = 63)\n",
    "\n"
   ]
  },
  {
   "cell_type": "code",
   "execution_count": 16,
   "id": "6e7d3b58",
   "metadata": {},
   "outputs": [
    {
     "data": {
      "text/plain": [
       "15699    @SpeakerPelosi Why is the government importing the Coronavirus\\nhttps://t.co/1yEqvWSa5c                                                       \n",
       "442      Coronavirus cure: Can you treat coronavirus? How dangerous is it? https://t.co/t0kepYVUxK                                                     \n",
       "4464     Did China Steal Coronavirus From Canada And Weaponize It? | Zero Hedge https://t.co/vkPUMQfAmI                                                \n",
       "19646    Wuhan Coronavirus : What Are Its Key¬†Symptoms? https://t.co/WZS5Fw1gC8 https://t.co/AcUGtnjmur                                               \n",
       "27417    Coronavirus: South Korean PM vows 'swift' action as infections escalate ‚Äì live updates | World news\\nhttps://t.co/UKRWlXSdpZ                \n",
       "                                                                      ...                                                                              \n",
       "26580    $CCX strong 1H result with a decent outlook but cut div (to invest in growth) and a pretty solid coronavirus caveat‚Ä¶ https://t.co/X1vJB4lNlo\n",
       "14348    Coronavirus updates: The latest news on the outbreak and the global response https://t.co/yZCbGfwpvk https://t.co/3zHYy0jps0                  \n",
       "5159     why indeed. #coronavirus https://t.co/YswqKW13BS                                                                                              \n",
       "2049     What's the deal with #coronavirus? How can I get it?                                                                                          \n",
       "13084    Chinese markets plummet after #CoronavirusOutbreak. #Coronavirustoronto #coronavirus #coronavirusafrica‚Ä¶ https://t.co/e1TeUGgdar            \n",
       "Name: tweet, Length: 9000, dtype: object"
      ]
     },
     "execution_count": 16,
     "metadata": {},
     "output_type": "execute_result"
    }
   ],
   "source": [
    "x_test"
   ]
  },
  {
   "cell_type": "code",
   "execution_count": 17,
   "id": "b617af22",
   "metadata": {
    "scrolled": true
   },
   "outputs": [
    {
     "data": {
      "text/plain": [
       "25114    Dear gullible asian parents on Facebook, stop reading and believing obviously fake news articles about the corona virus..                    \n",
       "10541    WHO declares Coronavirus a global health emergency https://t.co/SGXkHgcAR5 https://t.co/Koj0RXXIOO                                           \n",
       "3478     All this Coronavirus stuff has my inner hypochondriac going nuts                                                                             \n",
       "28320    Letters | Keep your cool during coronavirus epidemic with calligraphy https://t.co/J6WfLoSywY #Coronavirusoutbreak‚Ä¶ https://t.co/T38Hq0JZuz\n",
       "5491     Fifth US case of coronavirus confirmed a... https://t.co/zy4VQ9ZFWY                                                                          \n",
       "                                        ...                                                                                                           \n",
       "2386     A Man Diagnosed With Wuhan Coronavirus Near Seattle Is Being Treated Largely By a Robot https://t.co/kcbrvBgj8M                              \n",
       "25815    Countries with confirmed cases of #coronavirus https://t.co/g8WD3uDINA https://t.co/NPi1Md4j6S                                               \n",
       "139      Corona Virus = Won Ton Soup banned in the U.S.  .. üòú https://t.co/V4JaFYhHkG                                                              \n",
       "11380    U keep spreading nasty shits. Para kang corona virusüò∑                                                                                     \n",
       "5164     @DOHgov We need to discuss on how to avoid infection diseases of Corona virus                                                                \n",
       "Name: tweet, Length: 21000, dtype: object"
      ]
     },
     "execution_count": 17,
     "metadata": {},
     "output_type": "execute_result"
    }
   ],
   "source": [
    "x_train"
   ]
  },
  {
   "cell_type": "code",
   "execution_count": 18,
   "id": "decd6abf",
   "metadata": {},
   "outputs": [],
   "source": [
    "from sklearn.feature_extraction.text import TfidfVectorizer\n",
    "vectorizer=TfidfVectorizer()\n",
    "train_vectors = vectorizer.fit_transform(x_train)\n",
    "test_vectors = vectorizer.transform(x_test)"
   ]
  },
  {
   "cell_type": "code",
   "execution_count": 19,
   "id": "31b0191c",
   "metadata": {},
   "outputs": [
    {
     "data": {
      "text/html": [
       "<style>#sk-container-id-1 {color: black;background-color: white;}#sk-container-id-1 pre{padding: 0;}#sk-container-id-1 div.sk-toggleable {background-color: white;}#sk-container-id-1 label.sk-toggleable__label {cursor: pointer;display: block;width: 100%;margin-bottom: 0;padding: 0.3em;box-sizing: border-box;text-align: center;}#sk-container-id-1 label.sk-toggleable__label-arrow:before {content: \"▸\";float: left;margin-right: 0.25em;color: #696969;}#sk-container-id-1 label.sk-toggleable__label-arrow:hover:before {color: black;}#sk-container-id-1 div.sk-estimator:hover label.sk-toggleable__label-arrow:before {color: black;}#sk-container-id-1 div.sk-toggleable__content {max-height: 0;max-width: 0;overflow: hidden;text-align: left;background-color: #f0f8ff;}#sk-container-id-1 div.sk-toggleable__content pre {margin: 0.2em;color: black;border-radius: 0.25em;background-color: #f0f8ff;}#sk-container-id-1 input.sk-toggleable__control:checked~div.sk-toggleable__content {max-height: 200px;max-width: 100%;overflow: auto;}#sk-container-id-1 input.sk-toggleable__control:checked~label.sk-toggleable__label-arrow:before {content: \"▾\";}#sk-container-id-1 div.sk-estimator input.sk-toggleable__control:checked~label.sk-toggleable__label {background-color: #d4ebff;}#sk-container-id-1 div.sk-label input.sk-toggleable__control:checked~label.sk-toggleable__label {background-color: #d4ebff;}#sk-container-id-1 input.sk-hidden--visually {border: 0;clip: rect(1px 1px 1px 1px);clip: rect(1px, 1px, 1px, 1px);height: 1px;margin: -1px;overflow: hidden;padding: 0;position: absolute;width: 1px;}#sk-container-id-1 div.sk-estimator {font-family: monospace;background-color: #f0f8ff;border: 1px dotted black;border-radius: 0.25em;box-sizing: border-box;margin-bottom: 0.5em;}#sk-container-id-1 div.sk-estimator:hover {background-color: #d4ebff;}#sk-container-id-1 div.sk-parallel-item::after {content: \"\";width: 100%;border-bottom: 1px solid gray;flex-grow: 1;}#sk-container-id-1 div.sk-label:hover label.sk-toggleable__label {background-color: #d4ebff;}#sk-container-id-1 div.sk-serial::before {content: \"\";position: absolute;border-left: 1px solid gray;box-sizing: border-box;top: 0;bottom: 0;left: 50%;z-index: 0;}#sk-container-id-1 div.sk-serial {display: flex;flex-direction: column;align-items: center;background-color: white;padding-right: 0.2em;padding-left: 0.2em;position: relative;}#sk-container-id-1 div.sk-item {position: relative;z-index: 1;}#sk-container-id-1 div.sk-parallel {display: flex;align-items: stretch;justify-content: center;background-color: white;position: relative;}#sk-container-id-1 div.sk-item::before, #sk-container-id-1 div.sk-parallel-item::before {content: \"\";position: absolute;border-left: 1px solid gray;box-sizing: border-box;top: 0;bottom: 0;left: 50%;z-index: -1;}#sk-container-id-1 div.sk-parallel-item {display: flex;flex-direction: column;z-index: 1;position: relative;background-color: white;}#sk-container-id-1 div.sk-parallel-item:first-child::after {align-self: flex-end;width: 50%;}#sk-container-id-1 div.sk-parallel-item:last-child::after {align-self: flex-start;width: 50%;}#sk-container-id-1 div.sk-parallel-item:only-child::after {width: 0;}#sk-container-id-1 div.sk-dashed-wrapped {border: 1px dashed gray;margin: 0 0.4em 0.5em 0.4em;box-sizing: border-box;padding-bottom: 0.4em;background-color: white;}#sk-container-id-1 div.sk-label label {font-family: monospace;font-weight: bold;display: inline-block;line-height: 1.2em;}#sk-container-id-1 div.sk-label-container {text-align: center;}#sk-container-id-1 div.sk-container {/* jupyter's `normalize.less` sets `[hidden] { display: none; }` but bootstrap.min.css set `[hidden] { display: none !important; }` so we also need the `!important` here to be able to override the default hidden behavior on the sphinx rendered scikit-learn.org. See: https://github.com/scikit-learn/scikit-learn/issues/21755 */display: inline-block !important;position: relative;}#sk-container-id-1 div.sk-text-repr-fallback {display: none;}</style><div id=\"sk-container-id-1\" class=\"sk-top-container\"><div class=\"sk-text-repr-fallback\"><pre>SVC(kernel=&#x27;linear&#x27;)</pre><b>In a Jupyter environment, please rerun this cell to show the HTML representation or trust the notebook. <br />On GitHub, the HTML representation is unable to render, please try loading this page with nbviewer.org.</b></div><div class=\"sk-container\" hidden><div class=\"sk-item\"><div class=\"sk-estimator sk-toggleable\"><input class=\"sk-toggleable__control sk-hidden--visually\" id=\"sk-estimator-id-1\" type=\"checkbox\" checked><label for=\"sk-estimator-id-1\" class=\"sk-toggleable__label sk-toggleable__label-arrow\">SVC</label><div class=\"sk-toggleable__content\"><pre>SVC(kernel=&#x27;linear&#x27;)</pre></div></div></div></div></div>"
      ],
      "text/plain": [
       "SVC(kernel='linear')"
      ]
     },
     "execution_count": 19,
     "metadata": {},
     "output_type": "execute_result"
    }
   ],
   "source": [
    "#linear kernel\n",
    "from sklearn import svm\n",
    "clf=svm.SVC(kernel='linear')\n",
    "clf.fit(train_vectors,y_train)"
   ]
  },
  {
   "cell_type": "code",
   "execution_count": 20,
   "id": "d22b010f",
   "metadata": {},
   "outputs": [
    {
     "data": {
      "text/plain": [
       "0.9003333333333333"
      ]
     },
     "execution_count": 20,
     "metadata": {},
     "output_type": "execute_result"
    }
   ],
   "source": [
    "pred_linear=clf.predict(test_vectors)\n",
    "from sklearn import metrics\n",
    "metrics.accuracy_score(y_test,pred_linear)"
   ]
  },
  {
   "cell_type": "code",
   "execution_count": 21,
   "id": "b6251eee",
   "metadata": {},
   "outputs": [
    {
     "name": "stdout",
     "output_type": "stream",
     "text": [
      "              precision    recall  f1-score   support\n",
      "\n",
      "         neg       0.88      0.75      0.81      1586\n",
      "         neu       0.91      0.97      0.94      6820\n",
      "         pos       0.80      0.56      0.65       594\n",
      "\n",
      "    accuracy                           0.90      9000\n",
      "   macro avg       0.86      0.76      0.80      9000\n",
      "weighted avg       0.90      0.90      0.90      9000\n",
      "\n"
     ]
    }
   ],
   "source": [
    "from sklearn.metrics import classification_report\n",
    "print(classification_report(y_test, pred_linear))"
   ]
  },
  {
   "cell_type": "code",
   "execution_count": null,
   "id": "f4f8eef9",
   "metadata": {},
   "outputs": [],
   "source": []
  }
 ],
 "metadata": {
  "kernelspec": {
   "display_name": "Python 3",
   "language": "python",
   "name": "python3"
  },
  "language_info": {
   "codemirror_mode": {
    "name": "ipython",
    "version": 3
   },
   "file_extension": ".py",
   "mimetype": "text/x-python",
   "name": "python",
   "nbconvert_exporter": "python",
   "pygments_lexer": "ipython3",
   "version": "3.8.8"
  }
 },
 "nbformat": 4,
 "nbformat_minor": 5
}
